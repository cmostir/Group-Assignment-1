{
  "nbformat": 4,
  "nbformat_minor": 0,
  "metadata": {
    "colab": {
      "name": "Copy of GroupAssignment1-Template.ipynb",
      "provenance": [],
      "include_colab_link": true
    },
    "kernelspec": {
      "name": "python3",
      "display_name": "Python 3"
    }
  },
  "cells": [
    {
      "cell_type": "markdown",
      "metadata": {
        "id": "view-in-github",
        "colab_type": "text"
      },
      "source": [
        "<a href=\"https://colab.research.google.com/github/cmostir/Group-Assignment-1/blob/master/Copy_of_GroupAssignment1_Template.ipynb\" target=\"_parent\"><img src=\"https://colab.research.google.com/assets/colab-badge.svg\" alt=\"Open In Colab\"/></a>"
      ]
    },
    {
      "cell_type": "markdown",
      "metadata": {
        "id": "UblhAIGuGF27",
        "colab_type": "text"
      },
      "source": [
        "###Resturant\n"
      ]
    },
    {
      "cell_type": "markdown",
      "metadata": {
        "id": "RlR0_Ol4GW3b",
        "colab_type": "text"
      },
      "source": [
        "### What is your idea?"
      ]
    },
    {
      "cell_type": "markdown",
      "metadata": {
        "id": "HU68Zv5MGY97",
        "colab_type": "text"
      },
      "source": [
        "-- The idea that we decided on is a resturant. We decided on a resturant because of all the different factors and processes that go into it."
      ]
    },
    {
      "cell_type": "markdown",
      "metadata": {
        "id": "45Q0PBrIGiIg",
        "colab_type": "text"
      },
      "source": [
        "### What makes it unique?"
      ]
    },
    {
      "cell_type": "markdown",
      "metadata": {
        "id": "8WOfTAuqGjoc",
        "colab_type": "text"
      },
      "source": [
        "-- A resturant is unique in many ways but the big reason is all the parts (seating people, taking orders, filling orders, etc). For a resturant to succeed all these parts need to be working as one unit."
      ]
    },
    {
      "cell_type": "markdown",
      "metadata": {
        "id": "dVrktWdXGl19",
        "colab_type": "text"
      },
      "source": [
        "### Is this a brand-new product or business, or are you borrowing from another business?"
      ]
    },
    {
      "cell_type": "markdown",
      "metadata": {
        "id": "MmGY0leUGnaN",
        "colab_type": "text"
      },
      "source": [
        "-- Our idea is not brand new but will based off of other resturants. We will take many ideas from various places to make our own.\n"
      ]
    },
    {
      "cell_type": "markdown",
      "metadata": {
        "id": "k3oJzVDPGnws",
        "colab_type": "text"
      },
      "source": [
        "### Describe a typical business interaction or a day at your business."
      ]
    },
    {
      "cell_type": "markdown",
      "metadata": {
        "id": "GeEKl-lUG1x5",
        "colab_type": "text"
      },
      "source": [
        "A typical day in our buisness starts with opening up the resturant and setting up tables for the customers. The food will start to be prepped and the customers will start arriving. They will be sat, their order will be taken and filled. They will pay their check and leave, then the resturant will clean the tables and get ready for the next group of customers. At the end of the day, everything will be washed down and the resturant will be closed."
      ]
    },
    {
      "cell_type": "markdown",
      "metadata": {
        "id": "iUFoC5BuGpID",
        "colab_type": "text"
      },
      "source": [
        "### List your 5 entities/tables and for each, provide details about what data will be stored in the entities/tables."
      ]
    },
    {
      "cell_type": "markdown",
      "metadata": {
        "id": "AiZXrfSMGqZm",
        "colab_type": "text"
      },
      "source": [
        "1. Food\n",
        "\n",
        "-- In this entity, we will have all the information about the food. This includes the pirce, food ID, qauntity and table number\n",
        "\n",
        "2. Customer\n",
        "\n",
        "-- In this entity, we will have all the information about the customer and how they are paying. This also includes the number of customers at each table.\n",
        "\n",
        "3.  Ordered\n",
        "\n",
        "-- In this entity, we will have all the information about what was ordered, how much was ordered, and information pertaning to what is being bought. \n",
        "\n",
        "4. Delivery\n",
        "\n",
        "-- In this entity, we will have all the information about the delivery service in the resturant. This includes the time at which a delivery was placed and when it arrived. We are acting like these orders are being taken through a service app like grubhub or doordash.\n",
        "\n",
        "5. Kitchen Staff\n",
        "\n",
        "-- In this entity we will have all information about the kitchen staff, including their names, ID numbers, contact information, and wages."
      ]
    },
    {
      "cell_type": "markdown",
      "metadata": {
        "id": "h2mJWTewHLSn",
        "colab_type": "text"
      },
      "source": [
        "Draw IO Entity Relationship Diagram \n",
        "\n",
        "- https://app.diagrams.net/#G1dkhCaYCGNF1N06ruLF2j0ezrccdRqJ1N\n"
      ]
    },
    {
      "cell_type": "markdown",
      "metadata": {
        "id": "WFQXwieoHiCe",
        "colab_type": "text"
      },
      "source": [
        "### Provide a goal for your project."
      ]
    },
    {
      "cell_type": "markdown",
      "metadata": {
        "id": "cKmoiVHrHnHF",
        "colab_type": "text"
      },
      "source": [
        "-- Our goal for this project was to show the various processes that go into a resturant. We wanted to give an in-depth view of a business.\n",
        "\n",
        "---\n",
        "\n"
      ]
    }
  ]
}